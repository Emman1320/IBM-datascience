{
 "cells": [
  {
   "cell_type": "markdown",
   "id": "1ae51a34-1e86-4be5-82bc-e5382035027e",
   "metadata": {},
   "source": [
    "<h1>My Jupyter Notebook on IBM Watson Studio</h1>"
   ]
  },
  {
   "cell_type": "markdown",
   "id": "a92e9622-438a-4627-a043-e198b6b1c3d7",
   "metadata": {},
   "source": [
    "## Emmanuel David A\n",
    "My desired occupation is to become an AI expert in virtual reality"
   ]
  },
  {
   "cell_type": "markdown",
   "id": "eb7afec1-b4b0-4a30-8dfa-6abc91b3cc88",
   "metadata": {},
   "source": [
    "<em>I am interested in data science because it is the future that </em>"
   ]
  },
  {
   "cell_type": "markdown",
   "id": "55e55f3b-5ad4-41c0-8d56-1af23f9840c4",
   "metadata": {},
   "source": [
    "<h3>My code below sorts the given array:</h3>"
   ]
  },
  {
   "cell_type": "code",
   "execution_count": 1,
   "id": "967d22fa-68ec-4281-b7f8-c60f9a1de075",
   "metadata": {},
   "outputs": [
    {
     "data": {
      "text/plain": [
       "[1, 3, 3, 5, 6, 7, 9]"
      ]
     },
     "execution_count": 1,
     "metadata": {},
     "output_type": "execute_result"
    }
   ],
   "source": [
    "sorted([9, 3, 5, 1, 7, 3, 6])"
   ]
  },
  {
   "cell_type": "markdown",
   "id": "a7521f2e-50f1-45c2-9295-2760f33df974",
   "metadata": {},
   "source": [
    "<s>Strike through</s>\n",
    "<ol>\n",
    "    <li>one</li>\n",
    "    <li>two</li>\n",
    "    <li>three</li>\n",
    "</ol>\n",
    "<hr>\n"
   ]
  }
 ],
 "metadata": {
  "kernelspec": {
   "display_name": "Python",
   "language": "python",
   "name": "conda-env-python-py"
  },
  "language_info": {
   "codemirror_mode": {
    "name": "ipython",
    "version": 3
   },
   "file_extension": ".py",
   "mimetype": "text/x-python",
   "name": "python",
   "nbconvert_exporter": "python",
   "pygments_lexer": "ipython3",
   "version": "3.7.12"
  }
 },
 "nbformat": 4,
 "nbformat_minor": 5
}
